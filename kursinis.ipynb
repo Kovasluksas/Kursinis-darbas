{
  "nbformat": 4,
  "nbformat_minor": 0,
  "metadata": {
    "colab": {
      "provenance": [],
      "authorship_tag": "ABX9TyNfC0dmmO20obXS871blwaj",
      "include_colab_link": true
    },
    "kernelspec": {
      "name": "python3",
      "display_name": "Python 3"
    },
    "language_info": {
      "name": "python"
    }
  },
  "cells": [
    {
      "cell_type": "markdown",
      "metadata": {
        "id": "view-in-github",
        "colab_type": "text"
      },
      "source": [
        "<a href=\"https://colab.research.google.com/github/Kovasluksas/Kursinis-darbas/blob/main/kursinis.ipynb\" target=\"_parent\"><img src=\"https://colab.research.google.com/assets/colab-badge.svg\" alt=\"Open In Colab\"/></a>"
      ]
    },
    {
      "cell_type": "code",
      "execution_count": null,
      "metadata": {
        "colab": {
          "base_uri": "https://localhost:8080/",
          "height": 297
        },
        "id": "FQ6IGr4UO0gU",
        "outputId": "1919e116-d664-4a7c-90ae-bdd7b7b3f450"
      },
      "outputs": [
        {
          "output_type": "stream",
          "name": "stderr",
          "text": [
            "E\n",
            "======================================================================\n",
            "ERROR: /root/ (unittest.loader._FailedTest./root/)\n",
            "----------------------------------------------------------------------\n",
            "AttributeError: module '__main__' has no attribute '/root/'\n",
            "\n",
            "----------------------------------------------------------------------\n",
            "Ran 1 test in 0.001s\n",
            "\n",
            "FAILED (errors=1)\n"
          ]
        },
        {
          "output_type": "error",
          "ename": "SystemExit",
          "evalue": "True",
          "traceback": [
            "An exception has occurred, use %tb to see the full traceback.\n",
            "\u001b[0;31mSystemExit\u001b[0m\u001b[0;31m:\u001b[0m True\n"
          ]
        },
        {
          "output_type": "stream",
          "name": "stderr",
          "text": [
            "/usr/local/lib/python3.11/dist-packages/IPython/core/interactiveshell.py:3561: UserWarning: To exit: use 'exit', 'quit', or Ctrl-D.\n",
            "  warn(\"To exit: use 'exit', 'quit', or Ctrl-D.\", stacklevel=1)\n"
          ]
        }
      ],
      "source": [
        "# stack.py\n",
        "\n",
        "import unittest\n",
        "\n",
        "class Stack:\n",
        "    _instance = None\n",
        "\n",
        "    def __new__(cls):\n",
        "        \"\"\"Asegura que solo haya una instancia de la pila\"\"\"\n",
        "        if cls._instance is None:\n",
        "            cls._instance = super(Stack, cls).__new__(cls)\n",
        "            cls._instance._stack = []  # Lista para almacenar los elementos\n",
        "        return cls._instance\n",
        "\n",
        "    def push(self, item):\n",
        "        \"\"\"Agregar un elemento a la pila (LIFO)\"\"\"\n",
        "        self._stack.append(item)\n",
        "\n",
        "    def pop(self):\n",
        "        \"\"\"Eliminar y retornar el elemento superior de la pila\"\"\"\n",
        "        if self.is_empty():\n",
        "            raise IndexError(\"pop from empty stack\")\n",
        "        return self._stack.pop()\n",
        "\n",
        "    def peek(self):\n",
        "        \"\"\"Retornar el elemento superior sin eliminarlo\"\"\"\n",
        "        if self.is_empty():\n",
        "            raise IndexError(\"peek from empty stack\")\n",
        "        return self._stack[-1]\n",
        "\n",
        "    def is_empty(self):\n",
        "        \"\"\"Verificar si la pila está vacía\"\"\"\n",
        "        return len(self._stack) == 0\n",
        "\n",
        "    def size(self):\n",
        "        \"\"\"Retornar el tamaño de la pila\"\"\"\n",
        "        return len(self._stack)\n",
        "\n",
        "    def guardar_en_archivo(self, filename):\n",
        "        \"\"\"Guardar los elementos de la pila en un archivo\"\"\"\n",
        "        with open(filename, 'w') as f:\n",
        "            for item in self._stack:\n",
        "                f.write(f\"{item}\\n\")\n",
        "\n",
        "    def cargar_desde_archivo(self, filename):\n",
        "        \"\"\"Cargar los elementos de la pila desde un archivo\"\"\"\n",
        "        with open(filename, 'r') as f:\n",
        "            self._stack = [line.strip() for line in f.readlines()]\n",
        "\n",
        "# Clase extendida para demostrar herencia y polimorfismo (ejemplo)\n",
        "class ExtendedStack(Stack):\n",
        "    def __init__(self):\n",
        "        super().__init__()\n",
        "\n",
        "    def clear(self):\n",
        "        \"\"\"Limpiar la pila (vaciarla)\"\"\"\n",
        "        self._stack = []\n",
        "\n",
        "# Pruebas unitarias\n",
        "class TestStack(unittest.TestCase):\n",
        "\n",
        "    def setUp(self):\n",
        "        \"\"\"Se ejecuta antes de cada prueba\"\"\"\n",
        "        self.stack = Stack()\n",
        "\n",
        "    def test_push_and_pop(self):\n",
        "        \"\"\"Probar operaciones push y pop\"\"\"\n",
        "        self.stack.push(10)\n",
        "        self.stack.push(20)\n",
        "        self.assertEqual(self.stack.pop(), 20)\n",
        "        self.assertEqual(self.stack.pop(), 10)\n",
        "\n",
        "    def test_peek(self):\n",
        "        \"\"\"Probar la operación peek\"\"\"\n",
        "        self.stack.push(10)\n",
        "        self.stack.push(20)\n",
        "        self.assertEqual(self.stack.peek(), 20)\n",
        "\n",
        "    def test_is_empty(self):\n",
        "        \"\"\"Probar la operación is_empty\"\"\"\n",
        "        self.assertTrue(self.stack.is_empty())\n",
        "        self.stack.push(10)\n",
        "        self.assertFalse(self.stack.is_empty())\n",
        "\n",
        "    def test_size(self):\n",
        "        \"\"\"Probar la operación size\"\"\"\n",
        "        self.assertEqual(self.stack.size(), 0)\n",
        "        self.stack.push(10)\n",
        "        self.stack.push(20)\n",
        "        self.assertEqual(self.stack.size(), 2)\n",
        "\n",
        "    def test_guardar_y_cargar_archivo(self):\n",
        "        \"\"\"Probar guardar y cargar desde archivo\"\"\"\n",
        "        self.stack.push(10)\n",
        "        self.stack.push(20)\n",
        "        self.stack.guardar_en_archivo(\"stack.txt\")\n",
        "\n",
        "        new_stack = Stack()  # Crear una nueva instancia de la pila\n",
        "        new_stack.cargar_desde_archivo(\"stack.txt\")\n",
        "        self.assertEqual(new_stack.pop(), 20)\n",
        "        self.assertEqual(new_stack.pop(), 10)\n",
        "\n",
        "# Ejecutar las pruebas unitarias\n",
        "if __name__ == \"__main__\":\n",
        "    unittest.main()\n"
      ]
    }
  ]
}